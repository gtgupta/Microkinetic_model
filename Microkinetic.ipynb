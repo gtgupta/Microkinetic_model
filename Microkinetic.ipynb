{
  "nbformat": 4,
  "nbformat_minor": 0,
  "metadata": {
    "colab": {
      "provenance": [],
      "authorship_tag": "ABX9TyOD/IPSGJ+Oj4+iRJv0E6pI",
      "include_colab_link": true
    },
    "kernelspec": {
      "name": "python3",
      "display_name": "Python 3"
    },
    "language_info": {
      "name": "python"
    }
  },
  "cells": [
    {
      "cell_type": "markdown",
      "metadata": {
        "id": "view-in-github",
        "colab_type": "text"
      },
      "source": [
        "<a href=\"https://colab.research.google.com/github/gtgupta/test-colab/blob/main/Microkinetic.ipynb\" target=\"_parent\"><img src=\"https://colab.research.google.com/assets/colab-badge.svg\" alt=\"Open In Colab\"/></a>"
      ]
    },
    {
      "cell_type": "markdown",
      "source": [
        "A **microkinetic model** for *Lactic Acid* reaction  \n",
        "`By Geet Gupta`"
      ],
      "metadata": {
        "id": "3S2Qh8I-pREC"
      }
    },
    {
      "cell_type": "code",
      "execution_count": 18,
      "metadata": {
        "id": "j-U4gIi-4Nm_"
      },
      "outputs": [],
      "source": [
        "import numpy as np\n",
        "from scipy.integrate import ode\n",
        "import matplotlib.pyplot as plt"
      ]
    },
    {
      "cell_type": "code",
      "source": [
        "def main():\n",
        "    \n",
        "    print('XCSTR = ',xcstr)\n",
        "    print('Conversion = ',(FLAin - FLA) / FLAin * 100.0)\n",
        "    print('TOF = ',xout)\n",
        "    print('xLA= ,xAA= ,xH2O= ,xLALA= ,xDimer =,xv= ',xLA, xAA, xH2O, xLALA, xDimer, xv)\n",
        "    print('x_sum = ',xv + xLA + xAA + xH2O + xLALA + xDimer)\n",
        "    #print('z1= ,z2= ,z3= ,z4= ,ztot= ',z1,z2,z3,z4,ztot)\n",
        "    #print('ztest = ',z1 * z2 * z3 * z4 / ztot)\n",
        "    #print('N-balance = ',2.0 * FN2 + FNH3 - 2.0 * FN2in - FNH3in)\n",
        "    #print('H-balance = ',2.0 * FH2 + 3.0 * FNH3 - 2.0 * FH2in - 3.0 * FNH3in)\n",
        "\n",
        "    plt.figure(1)\n",
        "    t, y = solve_odes()\n",
        "    plt.plot(t, y[:,0]/FLAin *100)\n",
        "    plt.ylim(0, 3)\n",
        "    plt.xlim(0, 1)\n",
        "    plt.xlabel('Length of Reactor or Integration Time')\n",
        "    plt.ylabel('Conversion')\n",
        "    \n",
        "    plt.figure(2)\n",
        "    plt.plot(t,y[:,1] , 'blue', label='xLA')\n",
        "    plt.plot(t,y[:,2] , 'red', label='xAA')\n",
        "    plt.plot(t,y[:,3] , 'green', label='xH2O')\n",
        "    plt.plot(t,y[:,4] , 'orange', label='xLALA')\n",
        "    plt.plot(t,y[:,5] , 'brown', label='xDimer')\n",
        "    xvplot = (1.0 - y[:,1] - y[:,2] - y[:,3] - y[:,4] - y[:,5])\n",
        "    plt.plot(t,xvplot, 'yellow', label='xv')\n",
        "    plt.xlim(0, 1)\n",
        "    plt.xlabel('Length of Reactor or Integration Time')\n",
        "    plt.ylabel('Coverages')\n",
        "    plt.legend(loc= 'best', ncol = 6, fontsize=\"small\")"
      ],
      "metadata": {
        "id": "nAfkEO5R5v0g"
      },
      "execution_count": 19,
      "outputs": []
    },
    {
      "cell_type": "code",
      "source": [
        "# Reaction feed and conditions\n",
        "xcstr = 1.0\n",
        "sites = 10                           # micro-mol\n",
        "flowin = 60                           # cm3(STP)/min\n",
        "Fin = flowin/60.0/22400*1000000/sites\n",
        "FLAin = Fin\n",
        "FAAin = 0.0001\n",
        "FH2Oin = 0.0001\n",
        "FDimerin = 0.0001\n",
        "Finert = Fin - FLAin - FAAin - FH2Oin - FDimerin\n",
        "\n",
        "T = 623.15    # temperature in K"
      ],
      "metadata": {
        "id": "PD8gb3O_4WGA"
      },
      "execution_count": 20,
      "outputs": []
    },
    {
      "cell_type": "code",
      "source": [
        "# Intial conditions\n",
        "xin = 0\n",
        "xLAin = 0.1\n",
        "xAAin = 0.1\n",
        "xH2Oin = 0.1\n",
        "xLALAin = 0.1\n",
        "xDimerin = 0.1\n",
        "    \n",
        "kf1 = 6.43         # unit Pa-1.site-1.sec-1\n",
        "K1 = 1.47e-3\n",
        "km1 = kf1/K1\n",
        "kf2 = 4.86e-5\n",
        "K2 = 2.63e5\n",
        "km2 = kf2/K2\n",
        "kf3 = 4.55\n",
        "K3 = 4.74e27\n",
        "km3 = kf3/K3\n",
        "kf4 = 4.24e-1\n",
        "K4 = 6.65e-6\n",
        "km4 = kf4/K4\n",
        "kf5 = 7.19\n",
        "K5 = 1.71e3\n",
        "km5 = kf5/K5\n",
        "kf6 = 1.44e1\n",
        "K6 = 1.21e6\n",
        "km6 = kf6/K6\n",
        "kf7 = 4.79\n",
        "K7 = 1.11e5\n",
        "km7 = kf7/K7\n",
        "Keq = K1 * K2 * K3 * K4 * K5 * K6 * K7"
      ],
      "metadata": {
        "id": "SfQ0d7BU4Yjx"
      },
      "execution_count": 21,
      "outputs": []
    },
    {
      "cell_type": "code",
      "source": [
        "def solve_odes():\n",
        "    \"\"\"\n",
        "    Time-integrate chemo-kinetic system\n",
        "    \"\"\"\n",
        "    y0 = [xin,xLAin,xAAin,xH2Oin,xLALAin,xDimerin]\n",
        "    t0 = 0\n",
        "    t1 = 1   # total integration time\n",
        "    pt = 100\n",
        "    pLA = pt\n",
        "    pAA = 0.0\n",
        "    pH2O = 0.0\n",
        "    pDimer = 0.0\n",
        "    \n",
        "    # construct ODE solver\n",
        "    r = ode(dydt).set_integrator('vode', method='bdf', \n",
        "           atol=1e-8, rtol=1e-8, nsteps=1000, with_jacobian=True)\n",
        "    r.set_initial_value(y0, t0).set_f_params([pLA,pAA,pH2O,pDimer])\n",
        "    \n",
        "    # integrate on a logaritmic scale\n",
        "    xx = np.linspace(-12.0, np.log10(t1), int((np.log10(t1) + 12.0) * 100))\n",
        "    yy = []\n",
        "    tt = []\n",
        "    for i in xx:\n",
        "        tnew = 10.0**i\n",
        "        tt.append(tnew)\n",
        "        yy.append(r.integrate(tnew))    \n",
        "        \n",
        "    return tt, np.matrix(yy)"
      ],
      "metadata": {
        "id": "rmsGfcl24aF1"
      },
      "execution_count": 22,
      "outputs": []
    },
    {
      "cell_type": "code",
      "source": [
        "#final output\n",
        "t, y = solve_odes()\n",
        "olength = len(y)\n",
        "pt = 100\n",
        "\n",
        "xout = y[olength-1,0]\n",
        "FLA = FLAin - y[olength-1,0]\n",
        "FAA = FAAin + y[olength-1,0]\n",
        "FH2O = FH2Oin + y[olength-1,0]\n",
        "FDimer = FDimerin + y[olength-1,0]\n",
        "Ftot = FLA + FAA + FH2O + FDimer + Finert\n",
        "pLA = FLA/Ftot * pt\n",
        "pAA = FAA/Ftot * pt\n",
        "pH2O = FH2O/Ftot * pt\n",
        "pDimer = FDimer/Ftot * pt\n",
        "\n",
        "\n",
        "xLA = y[olength-1,1]\n",
        "xAA = y[olength-1,2]\n",
        "xH2O = y[olength-1,3]\n",
        "xLALA = y[olength-1,4]\n",
        "xDimer = y[olength-1,5]\n",
        "xv = (1.0 - xLA - xAA - xH2O - xLALA - xDimer)\n",
        "\n",
        "rate1 = kf1 * pLA * xv  - km1 * xLA\n",
        "rate2 = kf2 * xLA * xv - km2 * xAA * xH2O\n",
        "rate3 = kf3 * xLA * pLA - km3 * xLALA\n",
        "rate4 = kf4 * xLALA * xv - km4 * xDimer * xH2O\n",
        "rate5 = kf3 * xAA - km3 * pAA * xv\n",
        "rate6 = kf4 * xH2O - km4 * pH2O * xv\n",
        "rate7 = kf7 * xDimer - kf3 * pDimer * xv\n",
        "\n",
        "#z1 = (km1 * xLA) / (kf1 * pLA * xv)\n",
        "#z2 = (km2 * xAA * xH2O) / (kf2 * xLA * xv)\n",
        "#z3 = (km3 * pAA * xv) / (kf3 * xAA)\n",
        "#z4 = (km4 * pH2O * xv) / (kf4 * xH2O)\n",
        "#ztot = pAA * pH2O / pLA / Keq"
      ],
      "metadata": {
        "id": "46DMiN1W4b3Q"
      },
      "execution_count": 23,
      "outputs": []
    },
    {
      "cell_type": "code",
      "source": [
        "def dydt(t, y, params):\n",
        "    \"\"\"\n",
        "    Set of ordinary differential equations\n",
        "    \"\"\"\n",
        "    \"\"\"\n",
        "    Elementary steps\n",
        "    \n",
        "      LA(g) + *   <-->  LA*                (1)           \n",
        "        LA* + *   <-->  AA* + H2O*         (2)\n",
        "      LA* + LA(g) <-->  LA-LA*             (3)\n",
        "     LA-LA* + *   <-->  Dimer* + H2O*      (4)\n",
        "        AA*       <-->  AA(g) + *          (5) \n",
        "        H2O*      <-->  H2O(g) + *         (6)\n",
        "        Dimer*    <-->  Dimer(g) + *       (7)\n",
        "    \"\"\"\n",
        "    pLA = params[0]\n",
        "    pAA = params[1]\n",
        "    pH2O = params[2]\n",
        "    pDimer = params[3]\n",
        "    \n",
        "    pt = 100\n",
        "    \n",
        "    dydt = np.zeros(6)\n",
        "    \n",
        "    FLA = FLAin - y[0]\n",
        "    FAA = FAAin + y[0]\n",
        "    FH2O = FH2Oin + y[0]\n",
        "    FDimer = FDimerin + y[0]\n",
        "    \n",
        "    Ftot = FLA + FAA + FH2O + FDimer + Finert\n",
        "    pLA = FLA/Ftot * pt\n",
        "    pAA = FAA/Ftot * pt\n",
        "    pH2O = FH2O/Ftot * pt\n",
        "    pDimer = FDimer/Ftot * pt\n",
        "    \n",
        "    xLA = y[1]\n",
        "    xAA = y[2]\n",
        "    xH2O = y[3]\n",
        "    xLALA = y[4]\n",
        "    xDimer = y[5]\n",
        "    xv = (1.0 - xLA - xAA - xH2O - xLALA - xDimer)\n",
        "    \n",
        "    # collect similar terms in new variables    \n",
        "    rate1 = kf1 * pLA * xv  - km1 * xLA\n",
        "    rate2 = kf2 * xLA * xv - km2 * xAA * xH2O\n",
        "    rate3 = kf3 * xLA * pLA - km3 * xLALA\n",
        "    rate4 = kf4 * xLALA * xv - km4 * xDimer * xH2O\n",
        "    rate5 = kf3 * xAA - km3 * pAA * xv\n",
        "    rate6 = kf4 * xH2O - km4 * pH2O * xv\n",
        "    rate7 = kf7 * xDimer - kf3 * pDimer * xv\n",
        "    \n",
        "    dydt[0] = rate1+(-y[0]) * xcstr\n",
        "    dydt[1] = rate1 - rate2 - rate3\n",
        "    dydt[2] = rate2 - rate4\n",
        "    dydt[3] = rate2 + rate4 - rate6\n",
        "    dydt[4] = rate3 - rate4\n",
        "    dydt[5] = rate4 - rate7\n",
        "    \n",
        "    return dydt"
      ],
      "metadata": {
        "id": "m6prIVJR63ia"
      },
      "execution_count": 24,
      "outputs": []
    },
    {
      "cell_type": "code",
      "source": [
        "if __name__ == '__main__':\n",
        "    main()"
      ],
      "metadata": {
        "colab": {
          "base_uri": "https://localhost:8080/",
          "height": 652
        },
        "id": "mzh4xHHc4dvk",
        "outputId": "f2a2d2c3-a1d7-44c6-aad4-2b6dfc22789e"
      },
      "execution_count": 25,
      "outputs": [
        {
          "output_type": "stream",
          "name": "stdout",
          "text": [
            "XCSTR =  1.0\n",
            "Conversion =  0.060148323115555506\n",
            "TOF =  0.0026851929962298494\n",
            "xLA= ,xAA= ,xH2O= ,xLALA= ,xDimer =,xv=  6.929685701874337e-06 0.1996662698818659 0.49588037173216404 0.3043943004455731 6.801296286360133e-10 5.212757456545434e-05\n",
            "x_sum =  0.9999999999999999\n"
          ]
        },
        {
          "output_type": "display_data",
          "data": {
            "text/plain": [
              "<Figure size 432x288 with 1 Axes>"
            ],
            "image/png": "[encoded data removed]"
          },
          "metadata": {
            "needs_background": "light"
          }
        },
        {
          "output_type": "display_data",
          "data": {
            "text/plain": [
              "<Figure size 432x288 with 1 Axes>"
            ],
            "image/png": "[encoded data removed]"
          },
          "metadata": {
            "needs_background": "light"
          }
        }
      ]
    }
  ]
}